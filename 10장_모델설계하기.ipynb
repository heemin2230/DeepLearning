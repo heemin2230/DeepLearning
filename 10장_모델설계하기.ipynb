{
  "nbformat": 4,
  "nbformat_minor": 0,
  "metadata": {
    "colab": {
      "name": "10장_모델설계하기.ipynb",
      "provenance": [],
      "collapsed_sections": [],
      "authorship_tag": "ABX9TyMApUWPW/OFvs7r1YvS90Db",
      "include_colab_link": true
    },
    "kernelspec": {
      "name": "python3",
      "display_name": "Python 3"
    }
  },
  "cells": [
    {
      "cell_type": "markdown",
      "metadata": {
        "id": "view-in-github",
        "colab_type": "text"
      },
      "source": [
        "<a href=\"https://colab.research.google.com/github/heemin2230/DeepLearning/blob/master/10%EC%9E%A5_%EB%AA%A8%EB%8D%B8%EC%84%A4%EA%B3%84%ED%95%98%EA%B8%B0.ipynb\" target=\"_parent\"><img src=\"https://colab.research.google.com/assets/colab-badge.svg\" alt=\"Open In Colab\"/></a>"
      ]
    },
    {
      "cell_type": "code",
      "metadata": {
        "id": "rcLFQv9srq6_",
        "colab_type": "code",
        "colab": {
          "base_uri": "https://localhost:8080/",
          "height": 126
        },
        "outputId": "10790c09-b406-47ee-b4bc-5b3862336388"
      },
      "source": [
        "from google.colab import drive\n",
        "drive.mount(\"/content/gdrive\")"
      ],
      "execution_count": null,
      "outputs": [
        {
          "output_type": "stream",
          "text": [
            "Go to this URL in a browser: https://accounts.google.com/o/oauth2/auth?client_id=947318989803-6bn6qk8qdgf4n4g3pfee6491hc0brc4i.apps.googleusercontent.com&redirect_uri=urn%3aietf%3awg%3aoauth%3a2.0%3aoob&response_type=code&scope=email%20https%3a%2f%2fwww.googleapis.com%2fauth%2fdocs.test%20https%3a%2f%2fwww.googleapis.com%2fauth%2fdrive%20https%3a%2f%2fwww.googleapis.com%2fauth%2fdrive.photos.readonly%20https%3a%2f%2fwww.googleapis.com%2fauth%2fpeopleapi.readonly\n",
            "\n",
            "Enter your authorization code:\n",
            "··········\n",
            "Mounted at /content/gdrive\n"
          ],
          "name": "stdout"
        }
      ]
    },
    {
      "cell_type": "code",
      "metadata": {
        "id": "GL6Z2VIwtIWo",
        "colab_type": "code",
        "colab": {}
      },
      "source": [
        "from keras.models import Sequential\n",
        "from keras.layers import Dense\n",
        "import numpy as np\n",
        "import tensorflow as tf\n"
      ],
      "execution_count": null,
      "outputs": []
    },
    {
      "cell_type": "code",
      "metadata": {
        "id": "Ha9QQ8WjthtN",
        "colab_type": "code",
        "colab": {}
      },
      "source": [
        "seed = 0\n",
        "numpy.random.seed(seed)\n",
        "tf.random.set_seed(seed)"
      ],
      "execution_count": null,
      "outputs": []
    },
    {
      "cell_type": "code",
      "metadata": {
        "id": "MjktcJsgt4Fx",
        "colab_type": "code",
        "colab": {}
      },
      "source": [
        "Data_set = np.loadtxt(\"/content/gdrive/My Drive/deeplearning/data/ThoraricSurgery.csv\",delimiter=\",\")"
      ],
      "execution_count": null,
      "outputs": []
    },
    {
      "cell_type": "code",
      "metadata": {
        "id": "Pm7d-7yCufb1",
        "colab_type": "code",
        "colab": {}
      },
      "source": [
        "X = Data_set[:,0:17]\n",
        "Y = Data_set[:,17]"
      ],
      "execution_count": null,
      "outputs": []
    },
    {
      "cell_type": "code",
      "metadata": {
        "id": "-sEV_bj1ulhV",
        "colab_type": "code",
        "colab": {}
      },
      "source": [
        "model = Sequential()\n",
        "model.add(Dense(30, input_dim=17, activation='relu')) # 30개의 출력결과가 나옴, 첫번째 Dense는 입력층+은닉층.\n",
        "model.add(Dense(1,activation=\"sigmoid\")) # 출력층에서 필요한 결과는 생존여부 1개만 필요, 두번째 Dense는 출력을 의미"
      ],
      "execution_count": null,
      "outputs": []
    },
    {
      "cell_type": "code",
      "metadata": {
        "id": "o52iM1sQvInD",
        "colab_type": "code",
        "colab": {
          "base_uri": "https://localhost:8080/",
          "height": 1000
        },
        "outputId": "ee953baa-6ba3-4146-a6cc-ba6ea473e80a"
      },
      "source": [
        "model.compile(loss='mean_squared_error',optimizer='adam',metrics=['accuracy'])\n",
        "model.fit(X,Y,epochs=30,batch_size=10)"
      ],
      "execution_count": null,
      "outputs": [
        {
          "output_type": "stream",
          "text": [
            "Epoch 1/30\n",
            "470/470 [==============================] - 0s 362us/step - loss: 0.1369 - accuracy: 0.8447\n",
            "Epoch 2/30\n",
            "470/470 [==============================] - 0s 104us/step - loss: 0.1281 - accuracy: 0.8553\n",
            "Epoch 3/30\n",
            "470/470 [==============================] - 0s 99us/step - loss: 0.1259 - accuracy: 0.8553\n",
            "Epoch 4/30\n",
            "470/470 [==============================] - 0s 97us/step - loss: 0.1262 - accuracy: 0.8511\n",
            "Epoch 5/30\n",
            "470/470 [==============================] - 0s 101us/step - loss: 0.1330 - accuracy: 0.8532\n",
            "Epoch 6/30\n",
            "470/470 [==============================] - 0s 138us/step - loss: 0.1415 - accuracy: 0.8511\n",
            "Epoch 7/30\n",
            "470/470 [==============================] - 0s 153us/step - loss: 0.1365 - accuracy: 0.8532\n",
            "Epoch 8/30\n",
            "470/470 [==============================] - 0s 165us/step - loss: 0.1310 - accuracy: 0.8532\n",
            "Epoch 9/30\n",
            "470/470 [==============================] - 0s 164us/step - loss: 0.1274 - accuracy: 0.8553\n",
            "Epoch 10/30\n",
            "470/470 [==============================] - 0s 140us/step - loss: 0.1259 - accuracy: 0.8574\n",
            "Epoch 11/30\n",
            "470/470 [==============================] - 0s 137us/step - loss: 0.1243 - accuracy: 0.8553\n",
            "Epoch 12/30\n",
            "470/470 [==============================] - 0s 96us/step - loss: 0.1400 - accuracy: 0.8532\n",
            "Epoch 13/30\n",
            "470/470 [==============================] - 0s 97us/step - loss: 0.1323 - accuracy: 0.8553\n",
            "Epoch 14/30\n",
            "470/470 [==============================] - 0s 166us/step - loss: 0.1286 - accuracy: 0.8532\n",
            "Epoch 15/30\n",
            "470/470 [==============================] - 0s 123us/step - loss: 0.1386 - accuracy: 0.8532\n",
            "Epoch 16/30\n",
            "470/470 [==============================] - 0s 107us/step - loss: 0.1309 - accuracy: 0.8617\n",
            "Epoch 17/30\n",
            "470/470 [==============================] - 0s 98us/step - loss: 0.1244 - accuracy: 0.8553\n",
            "Epoch 18/30\n",
            "470/470 [==============================] - 0s 91us/step - loss: 0.1237 - accuracy: 0.8596\n",
            "Epoch 19/30\n",
            "470/470 [==============================] - 0s 101us/step - loss: 0.1336 - accuracy: 0.8574\n",
            "Epoch 20/30\n",
            "470/470 [==============================] - 0s 110us/step - loss: 0.1274 - accuracy: 0.8574\n",
            "Epoch 21/30\n",
            "470/470 [==============================] - 0s 98us/step - loss: 0.1270 - accuracy: 0.8596\n",
            "Epoch 22/30\n",
            "470/470 [==============================] - 0s 108us/step - loss: 0.1310 - accuracy: 0.8511\n",
            "Epoch 23/30\n",
            "470/470 [==============================] - 0s 114us/step - loss: 0.1327 - accuracy: 0.8596\n",
            "Epoch 24/30\n",
            "470/470 [==============================] - 0s 125us/step - loss: 0.1239 - accuracy: 0.8532\n",
            "Epoch 25/30\n",
            "470/470 [==============================] - 0s 155us/step - loss: 0.1391 - accuracy: 0.8511\n",
            "Epoch 26/30\n",
            "470/470 [==============================] - 0s 110us/step - loss: 0.1344 - accuracy: 0.8553\n",
            "Epoch 27/30\n",
            "470/470 [==============================] - 0s 97us/step - loss: 0.1307 - accuracy: 0.8638\n",
            "Epoch 28/30\n",
            "470/470 [==============================] - 0s 96us/step - loss: 0.1295 - accuracy: 0.8574\n",
            "Epoch 29/30\n",
            "470/470 [==============================] - 0s 93us/step - loss: 0.1291 - accuracy: 0.8532\n",
            "Epoch 30/30\n",
            "470/470 [==============================] - 0s 95us/step - loss: 0.1258 - accuracy: 0.8553\n"
          ],
          "name": "stdout"
        },
        {
          "output_type": "execute_result",
          "data": {
            "text/plain": [
              "<keras.callbacks.callbacks.History at 0x7fcc59473f28>"
            ]
          },
          "metadata": {
            "tags": []
          },
          "execution_count": 13
        }
      ]
    },
    {
      "cell_type": "code",
      "metadata": {
        "id": "gzh6jJJvvIjm",
        "colab_type": "code",
        "colab": {
          "base_uri": "https://localhost:8080/",
          "height": 70
        },
        "outputId": "3c1a3554-5e93-4d46-876b-5178bc41c429"
      },
      "source": [
        "print(\"\\n Accuracy: %.4f\" % (model.evaluate(X,Y)[1]))\n"
      ],
      "execution_count": null,
      "outputs": [
        {
          "output_type": "stream",
          "text": [
            "470/470 [==============================] - 0s 82us/step\n",
            "\n",
            " Accuracy: 0.8511\n"
          ],
          "name": "stdout"
        }
      ]
    }
  ]
}