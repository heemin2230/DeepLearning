{
  "nbformat": 4,
  "nbformat_minor": 0,
  "metadata": {
    "colab": {
      "name": "5장_다중로지스틱회귀.ipynb",
      "provenance": [],
      "collapsed_sections": [],
      "authorship_tag": "ABX9TyM3fUZus/ezFxsWLtfK4E4Q",
      "include_colab_link": true
    },
    "kernelspec": {
      "name": "python3",
      "display_name": "Python 3"
    }
  },
  "cells": [
    {
      "cell_type": "markdown",
      "metadata": {
        "id": "view-in-github",
        "colab_type": "text"
      },
      "source": [
        "<a href=\"https://colab.research.google.com/github/heemin2230/DeepLearning/blob/master/5%EC%9E%A5_%EB%8B%A4%EC%A4%91%EB%A1%9C%EC%A7%80%EC%8A%A4%ED%8B%B1%ED%9A%8C%EA%B7%80.ipynb\" target=\"_parent\"><img src=\"https://colab.research.google.com/assets/colab-badge.svg\" alt=\"Open In Colab\"/></a>"
      ]
    },
    {
      "cell_type": "code",
      "metadata": {
        "id": "mKNvIfUTbtfR",
        "colab_type": "code",
        "colab": {
          "base_uri": "https://localhost:8080/",
          "height": 268
        },
        "outputId": "bc3a852d-c2ff-4ade-91d1-a2fe3c3bfd55"
      },
      "source": [
        "#import tensorflow as tf\n",
        "\n",
        "import tensorflow.compat.v1 as tf\n",
        "import numpy as np\n",
        "tf.disable_v2_behavior()\n",
        "#tf.__version__\n",
        "\n",
        "seed = 0\n",
        "np.random.seed(seed)\n",
        "tf.set_random_seed(seed)\n",
        "\n",
        "x_data = np.array([[2,3],[4,3],[6,4],[8,6],[10,7],[12,8],[14,9]])\n",
        "y_data = np.array([0,0,0,1,1,1,1]).reshape(7,1)\n",
        "\n",
        "X = tf.placeholder(tf.float64, shape=[None,2])\n",
        "Y = tf.placeholder(tf.float64, shape=[None,1])\n",
        "\n",
        "a = tf.Variable(tf.random_uniform([2,1], dtype=tf.float64))\n",
        "b = tf.Variable(tf.random_uniform([1], dtype=tf.float64))\n",
        "\n",
        "y = tf.sigmoid(tf.matmul(X,a) + b)\n",
        "\n",
        "loss = -tf.reduce_mean(Y*tf.log(y) + (1-Y)*tf.log(1-Y))\n",
        "\n",
        "learning_rate = 0.1\n",
        "\n",
        "gradient_decent = tf.train.GradientDescentOptimizer(learning_rate).minimize(loss)\n",
        "\n",
        "predicted = tf.cast(y>0.5, dtype=tf.float64)\n",
        "accuracy = tf.reduce_mean(tf.cast(tf.equal(predicted, Y), dtype=tf.float64))\n",
        "\n",
        "with tf.Session() as sess:\n",
        "  sess.run(tf.global_variables_initializer())\n",
        "\n",
        "  for i in range(3001):\n",
        "    a_,b_,loss_, _ = sess.run([a,b,loss,gradient_decent], feed_dict={X:x_data, Y:y_data})\n",
        "    if (i+1)%300 == 0:\n",
        "      print(\"step = %d, a1 = %.4f, a2 = %.4f,b = %.4f,loss = %.4f\" %(i+1, a_[0], a_[1], b_, loss_))"
      ],
      "execution_count": null,
      "outputs": [
        {
          "output_type": "stream",
          "text": [
            "WARNING:tensorflow:From /usr/local/lib/python3.6/dist-packages/tensorflow/python/compat/v2_compat.py:96: disable_resource_variables (from tensorflow.python.ops.variable_scope) is deprecated and will be removed in a future version.\n",
            "Instructions for updating:\n",
            "non-resource variables are not supported in the long term\n",
            "step = 300, a1 = 0.3185, a2 = 0.6350,b = 0.3357,loss = nan\n",
            "step = 600, a1 = 0.3645, a2 = 0.6686,b = 0.3410,loss = nan\n",
            "step = 900, a1 = 0.3925, a2 = 0.6891,b = 0.3443,loss = nan\n",
            "step = 1200, a1 = 0.4128, a2 = 0.7040,b = 0.3467,loss = nan\n",
            "step = 1500, a1 = 0.4287, a2 = 0.7157,b = 0.3485,loss = nan\n",
            "step = 1800, a1 = 0.4418, a2 = 0.7253,b = 0.3501,loss = nan\n",
            "step = 2100, a1 = 0.4530, a2 = 0.7335,b = 0.3514,loss = nan\n",
            "step = 2400, a1 = 0.4627, a2 = 0.7407,b = 0.3525,loss = nan\n",
            "step = 2700, a1 = 0.4713, a2 = 0.7470,b = 0.3536,loss = nan\n",
            "step = 3000, a1 = 0.4790, a2 = 0.7527,b = 0.3545,loss = nan\n"
          ],
          "name": "stdout"
        }
      ]
    }
  ]
}