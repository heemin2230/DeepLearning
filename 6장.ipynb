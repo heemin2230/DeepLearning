{
  "nbformat": 4,
  "nbformat_minor": 0,
  "metadata": {
    "colab": {
      "name": "6장.ipynb",
      "provenance": [],
      "collapsed_sections": [],
      "authorship_tag": "ABX9TyMurZaOzRIqxib3/RDU6NW8",
      "include_colab_link": true
    },
    "kernelspec": {
      "name": "python3",
      "display_name": "Python 3"
    }
  },
  "cells": [
    {
      "cell_type": "markdown",
      "metadata": {
        "id": "view-in-github",
        "colab_type": "text"
      },
      "source": [
        "<a href=\"https://colab.research.google.com/github/heemin2230/DeepLearning/blob/master/6%EC%9E%A5.ipynb\" target=\"_parent\"><img src=\"https://colab.research.google.com/assets/colab-badge.svg\" alt=\"Open In Colab\"/></a>"
      ]
    },
    {
      "cell_type": "markdown",
      "metadata": {
        "id": "lqoYnhZjGCpM",
        "colab_type": "text"
      },
      "source": [
        "# AND 게이트\n"
      ]
    },
    {
      "cell_type": "code",
      "metadata": {
        "id": "LyN4Ldf9Etjm",
        "colab_type": "code",
        "colab": {}
      },
      "source": [
        "import numpy as np\n",
        "\n",
        "def AND(x1,x2,w1=0.5,w2=0.5,b=-0.7):\n",
        "  x = np.array([x1,x2])\n",
        "  w = np.array([w1,w2])\n",
        "  y = np.sum(x*w) + b\n",
        "\n",
        "  if y>=0:\n",
        "    return 1\n",
        "  elif y<0:\n",
        "    return 0"
      ],
      "execution_count": null,
      "outputs": []
    },
    {
      "cell_type": "code",
      "metadata": {
        "id": "totlfmznFah6",
        "colab_type": "code",
        "colab": {
          "base_uri": "https://localhost:8080/",
          "height": 88
        },
        "outputId": "76d3d607-038d-4090-d237-7bddee43f42a"
      },
      "source": [
        "print(\"AND(0,0) = \",AND(0,0))\n",
        "print(\"AND(0,1) = \",AND(0,1))\n",
        "print(\"AND(1,0) = \",AND(1,0))\n",
        "print(\"AND(1,1) = \",AND(1,1))"
      ],
      "execution_count": null,
      "outputs": [
        {
          "output_type": "stream",
          "text": [
            "AND(0,0) =  0\n",
            "AND(0,1) =  0\n",
            "AND(1,0) =  0\n",
            "AND(1,1) =  1\n"
          ],
          "name": "stdout"
        }
      ]
    },
    {
      "cell_type": "markdown",
      "metadata": {
        "id": "tJL-QRRXGoHi",
        "colab_type": "text"
      },
      "source": [
        "# NAND 게이트\n"
      ]
    },
    {
      "cell_type": "code",
      "metadata": {
        "id": "8AFmOqN6GGW-",
        "colab_type": "code",
        "colab": {}
      },
      "source": [
        "import numpy as np\n",
        "\n",
        "def NAND(x1,x2,w1=-0.5,w2=-0.5,b=0.7):\n",
        "  x = np.array([x1,x2])\n",
        "  w = np.array([w1,w2])\n",
        "  y = np.sum(x*w) + b\n",
        "\n",
        "  if y>=0:\n",
        "    return 1\n",
        "  elif y<0:\n",
        "    return 0"
      ],
      "execution_count": null,
      "outputs": []
    },
    {
      "cell_type": "code",
      "metadata": {
        "id": "8oHUm_B5GfeA",
        "colab_type": "code",
        "colab": {
          "base_uri": "https://localhost:8080/",
          "height": 88
        },
        "outputId": "d46e9172-5825-438d-c4ef-89b93d13ee3b"
      },
      "source": [
        "print(\"NAND(0,0) = \",NAND(0,0))\n",
        "print(\"NAND(0,1) = \",NAND(0,1))\n",
        "print(\"NAND(1,0) = \",NAND(1,0))\n",
        "print(\"NAND(1,1) = \",NAND(1,1))"
      ],
      "execution_count": null,
      "outputs": [
        {
          "output_type": "stream",
          "text": [
            "NAND(0,0) =  1\n",
            "NAND(0,1) =  1\n",
            "NAND(1,0) =  1\n",
            "NAND(1,1) =  0\n"
          ],
          "name": "stdout"
        }
      ]
    },
    {
      "cell_type": "markdown",
      "metadata": {
        "id": "bLThXTJSHe3E",
        "colab_type": "text"
      },
      "source": [
        "# OR 게이트"
      ]
    },
    {
      "cell_type": "code",
      "metadata": {
        "id": "AsRrmoSAG6KF",
        "colab_type": "code",
        "colab": {}
      },
      "source": [
        "import numpy as np\n",
        "\n",
        "def OR(x1,x2,w1=0.5,w2=0.5,b=-0.2):\n",
        "  x = np.array([x1,x2])\n",
        "  w = np.array([w1,w2])\n",
        "  y = np.sum(x*w) + b\n",
        "\n",
        "  if y<=0:\n",
        "    return 0\n",
        "  elif y>0:\n",
        "    return 1"
      ],
      "execution_count": null,
      "outputs": []
    },
    {
      "cell_type": "code",
      "metadata": {
        "id": "ijnlOas2HJs5",
        "colab_type": "code",
        "colab": {
          "base_uri": "https://localhost:8080/",
          "height": 88
        },
        "outputId": "77662689-a790-4ed0-939e-67a9cf66336e"
      },
      "source": [
        "print(\"OR(0,0) = \",OR(0,0))\n",
        "print(\"OR(0,1) = \",OR(0,1))\n",
        "print(\"OR(1,0) = \",OR(1,0))\n",
        "print(\"OR(1,1) = \",OR(1,1))"
      ],
      "execution_count": null,
      "outputs": [
        {
          "output_type": "stream",
          "text": [
            "OR(0,0) =  0\n",
            "OR(0,1) =  1\n",
            "OR(1,0) =  1\n",
            "OR(1,1) =  1\n"
          ],
          "name": "stdout"
        }
      ]
    },
    {
      "cell_type": "markdown",
      "metadata": {
        "id": "Q07LBGH-IzRZ",
        "colab_type": "text"
      },
      "source": [
        "# XOR 게이트"
      ]
    },
    {
      "cell_type": "code",
      "metadata": {
        "id": "il_Xi8r1I12U",
        "colab_type": "code",
        "colab": {}
      },
      "source": [
        "def XOR(x1,x2):\n",
        "  s1 = OR(x1,x2)\n",
        "  s2 = NAND(x1,x2)\n",
        "  y = AND(s1,s2)\n",
        "  return y"
      ],
      "execution_count": null,
      "outputs": []
    },
    {
      "cell_type": "code",
      "metadata": {
        "id": "PbE0MFSpI4qa",
        "colab_type": "code",
        "colab": {
          "base_uri": "https://localhost:8080/",
          "height": 88
        },
        "outputId": "7b8392d9-79bf-49bd-c3d2-3c490873eeca"
      },
      "source": [
        "print('XOR(0,0) = ',XOR(0,0))\n",
        "print('XOR(0,1) = ',XOR(0,1))\n",
        "print('XOR(1,0) = ',XOR(1,0))\n",
        "print('XOR(1,1) = ',XOR(1,1))"
      ],
      "execution_count": null,
      "outputs": [
        {
          "output_type": "stream",
          "text": [
            "XOR(0,0) =  0\n",
            "XOR(0,1) =  1\n",
            "XOR(1,0) =  1\n",
            "XOR(1,1) =  0\n"
          ],
          "name": "stdout"
        }
      ]
    },
    {
      "cell_type": "markdown",
      "metadata": {
        "id": "5xrfm6NKKf0Q",
        "colab_type": "text"
      },
      "source": [
        "# 다차원배열"
      ]
    },
    {
      "cell_type": "code",
      "metadata": {
        "id": "Wo5VFqDvKi6H",
        "colab_type": "code",
        "colab": {
          "base_uri": "https://localhost:8080/",
          "height": 35
        },
        "outputId": "b1b014cc-f1db-421f-9bc1-ddadac7686d5"
      },
      "source": [
        "import numpy as np\n",
        "a = np.array([1,2,3,4])\n",
        "print(a)"
      ],
      "execution_count": null,
      "outputs": [
        {
          "output_type": "stream",
          "text": [
            "[1 2 3 4]\n"
          ],
          "name": "stdout"
        }
      ]
    },
    {
      "cell_type": "code",
      "metadata": {
        "id": "uhNjhKr5Kv9H",
        "colab_type": "code",
        "colab": {
          "base_uri": "https://localhost:8080/",
          "height": 35
        },
        "outputId": "9bb7bc6a-fd80-483d-f8fc-30de17335eb5"
      },
      "source": [
        "np.ndim(a)"
      ],
      "execution_count": null,
      "outputs": [
        {
          "output_type": "execute_result",
          "data": {
            "text/plain": [
              "1"
            ]
          },
          "metadata": {
            "tags": []
          },
          "execution_count": 36
        }
      ]
    },
    {
      "cell_type": "code",
      "metadata": {
        "id": "k4Pu5Na-Kv5-",
        "colab_type": "code",
        "colab": {
          "base_uri": "https://localhost:8080/",
          "height": 35
        },
        "outputId": "83c4ac9a-f158-4aaf-b17f-5a0452c29a9a"
      },
      "source": [
        "a.shape"
      ],
      "execution_count": null,
      "outputs": [
        {
          "output_type": "execute_result",
          "data": {
            "text/plain": [
              "(4,)"
            ]
          },
          "metadata": {
            "tags": []
          },
          "execution_count": 37
        }
      ]
    },
    {
      "cell_type": "code",
      "metadata": {
        "id": "URKaFWLUKv1I",
        "colab_type": "code",
        "colab": {
          "base_uri": "https://localhost:8080/",
          "height": 35
        },
        "outputId": "01dbc924-db99-42e9-8b2b-b695b900eff7"
      },
      "source": [
        "a.shape[0]"
      ],
      "execution_count": null,
      "outputs": [
        {
          "output_type": "execute_result",
          "data": {
            "text/plain": [
              "4"
            ]
          },
          "metadata": {
            "tags": []
          },
          "execution_count": 39
        }
      ]
    },
    {
      "cell_type": "code",
      "metadata": {
        "id": "vF1B-MySKvwZ",
        "colab_type": "code",
        "colab": {
          "base_uri": "https://localhost:8080/",
          "height": 70
        },
        "outputId": "e9becbbb-d7ee-44b4-cb55-948f334b3aad"
      },
      "source": [
        "b = np.array([[1,2],[3,4],[5,6]])\n",
        "print(b)"
      ],
      "execution_count": null,
      "outputs": [
        {
          "output_type": "stream",
          "text": [
            "[[1 2]\n",
            " [3 4]\n",
            " [5 6]]\n"
          ],
          "name": "stdout"
        }
      ]
    },
    {
      "cell_type": "code",
      "metadata": {
        "id": "kuW8RveaKvsY",
        "colab_type": "code",
        "colab": {
          "base_uri": "https://localhost:8080/",
          "height": 35
        },
        "outputId": "f23d3e1d-a080-4ee5-ae68-bce29a6cf8f6"
      },
      "source": [
        "np.ndim(b)"
      ],
      "execution_count": null,
      "outputs": [
        {
          "output_type": "execute_result",
          "data": {
            "text/plain": [
              "2"
            ]
          },
          "metadata": {
            "tags": []
          },
          "execution_count": 42
        }
      ]
    },
    {
      "cell_type": "code",
      "metadata": {
        "id": "A2C_S_QxKvoX",
        "colab_type": "code",
        "colab": {
          "base_uri": "https://localhost:8080/",
          "height": 35
        },
        "outputId": "089d1f09-299e-4e1f-a4c6-4915553893fc"
      },
      "source": [
        "b.shape"
      ],
      "execution_count": null,
      "outputs": [
        {
          "output_type": "execute_result",
          "data": {
            "text/plain": [
              "(3, 2)"
            ]
          },
          "metadata": {
            "tags": []
          },
          "execution_count": 44
        }
      ]
    },
    {
      "cell_type": "markdown",
      "metadata": {
        "id": "afypM0-aMB-H",
        "colab_type": "text"
      },
      "source": [
        "# 행렬의 내적\n"
      ]
    },
    {
      "cell_type": "code",
      "metadata": {
        "id": "azUxAnSvLVnG",
        "colab_type": "code",
        "colab": {
          "base_uri": "https://localhost:8080/",
          "height": 52
        },
        "outputId": "96c88f13-3a8f-440d-e0b4-9f2de6bf96d7"
      },
      "source": [
        "import numpy as np\n",
        "a = np.array([[1,2],[3,4]])\n",
        "a.shape\n",
        "\n",
        "b = np.array([[5,6],[7,8]])\n",
        "b.shape\n",
        "\n",
        "np.dot(a,b)"
      ],
      "execution_count": null,
      "outputs": [
        {
          "output_type": "execute_result",
          "data": {
            "text/plain": [
              "array([[19, 22],\n",
              "       [43, 50]])"
            ]
          },
          "metadata": {
            "tags": []
          },
          "execution_count": 52
        }
      ]
    },
    {
      "cell_type": "markdown",
      "metadata": {
        "id": "Qncy8IhQNH0w",
        "colab_type": "text"
      },
      "source": [
        "# n차 행렬이 아닌 행렬 (A,B)·(B,C) = (A,C)"
      ]
    },
    {
      "cell_type": "code",
      "metadata": {
        "id": "ic1v2tx9NHDO",
        "colab_type": "code",
        "colab": {
          "base_uri": "https://localhost:8080/",
          "height": 70
        },
        "outputId": "645e8828-c1a2-40bb-b74f-5d7f3b62b90c"
      },
      "source": [
        "import numpy as np\n",
        "\n",
        "a = np.array([[1,2],[3,4],[5,6]])\n",
        "a.shape\n",
        "\n",
        "b = np.array([[7,8,9,10],[11,12,13,14]])\n",
        "b.shape\n",
        "\n",
        "np.dot(a,b)"
      ],
      "execution_count": null,
      "outputs": [
        {
          "output_type": "execute_result",
          "data": {
            "text/plain": [
              "array([[ 29,  32,  35,  38],\n",
              "       [ 65,  72,  79,  86],\n",
              "       [101, 112, 123, 134]])"
            ]
          },
          "metadata": {
            "tags": []
          },
          "execution_count": 53
        }
      ]
    },
    {
      "cell_type": "markdown",
      "metadata": {
        "id": "iHGeaLoJODT_",
        "colab_type": "text"
      },
      "source": [
        "# 신경망의 내적"
      ]
    },
    {
      "cell_type": "code",
      "metadata": {
        "id": "Gj1OcpW7OE7N",
        "colab_type": "code",
        "colab": {
          "base_uri": "https://localhost:8080/",
          "height": 35
        },
        "outputId": "9010d34c-24ba-4ddd-919a-d5d6f2fb754e"
      },
      "source": [
        "X = np.array([1,2])\n",
        "X.shape\n"
      ],
      "execution_count": null,
      "outputs": [
        {
          "output_type": "execute_result",
          "data": {
            "text/plain": [
              "(2,)"
            ]
          },
          "metadata": {
            "tags": []
          },
          "execution_count": 56
        }
      ]
    },
    {
      "cell_type": "code",
      "metadata": {
        "id": "Gn-EkYqbLVCQ",
        "colab_type": "code",
        "colab": {
          "base_uri": "https://localhost:8080/",
          "height": 52
        },
        "outputId": "8181052b-a98e-4587-8cd9-21a598f313c8"
      },
      "source": [
        "W = np.array([[1,3,5],[2,4,6]])\n",
        "print(W)\n"
      ],
      "execution_count": null,
      "outputs": [
        {
          "output_type": "stream",
          "text": [
            "[[1 3 5]\n",
            " [2 4 6]]\n"
          ],
          "name": "stdout"
        }
      ]
    },
    {
      "cell_type": "code",
      "metadata": {
        "id": "Y-bf-ADAOXco",
        "colab_type": "code",
        "colab": {
          "base_uri": "https://localhost:8080/",
          "height": 35
        },
        "outputId": "b177a60d-5391-43db-969b-d0334a31649c"
      },
      "source": [
        "W.shape\n"
      ],
      "execution_count": null,
      "outputs": [
        {
          "output_type": "execute_result",
          "data": {
            "text/plain": [
              "(2, 3)"
            ]
          },
          "metadata": {
            "tags": []
          },
          "execution_count": 58
        }
      ]
    },
    {
      "cell_type": "code",
      "metadata": {
        "id": "qUMzS2n-OYjp",
        "colab_type": "code",
        "colab": {
          "base_uri": "https://localhost:8080/",
          "height": 35
        },
        "outputId": "89a5416e-333d-44dc-dbf4-3f2a6626cc1d"
      },
      "source": [
        "Y = np.dot(X,W)\n",
        "print(Y)"
      ],
      "execution_count": null,
      "outputs": [
        {
          "output_type": "stream",
          "text": [
            "[ 5 11 17]\n"
          ],
          "name": "stdout"
        }
      ]
    }
  ]
}