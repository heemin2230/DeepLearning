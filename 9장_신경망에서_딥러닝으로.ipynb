{
  "nbformat": 4,
  "nbformat_minor": 0,
  "metadata": {
    "colab": {
      "name": "9장_신경망에서 딥러닝으로.ipynb",
      "provenance": [],
      "collapsed_sections": [],
      "authorship_tag": "ABX9TyOFS7txFLvKeTtc1zIr6L5N",
      "include_colab_link": true
    },
    "kernelspec": {
      "name": "python3",
      "display_name": "Python 3"
    }
  },
  "cells": [
    {
      "cell_type": "markdown",
      "metadata": {
        "id": "view-in-github",
        "colab_type": "text"
      },
      "source": [
        "<a href=\"https://colab.research.google.com/github/heemin2230/DeepLearning/blob/master/9%EC%9E%A5_%EC%8B%A0%EA%B2%BD%EB%A7%9D%EC%97%90%EC%84%9C_%EB%94%A5%EB%9F%AC%EB%8B%9D%EC%9C%BC%EB%A1%9C.ipynb\" target=\"_parent\"><img src=\"https://colab.research.google.com/assets/colab-badge.svg\" alt=\"Open In Colab\"/></a>"
      ]
    },
    {
      "cell_type": "markdown",
      "metadata": {
        "id": "HCD_yGXFXR2w",
        "colab_type": "text"
      },
      "source": [
        "# 활성화 함수(Activation Function)\n"
      ]
    },
    {
      "cell_type": "markdown",
      "metadata": {
        "id": "QikKyzGzVbB-",
        "colab_type": "text"
      },
      "source": [
        "## 1. 계단함수(Step Function)\n"
      ]
    },
    {
      "cell_type": "code",
      "metadata": {
        "id": "mP0RSHKiOGsu",
        "colab_type": "code",
        "colab": {
          "base_uri": "https://localhost:8080/",
          "height": 265
        },
        "outputId": "bbbe671f-178a-4f5d-cdb6-081110bc5a5d"
      },
      "source": [
        "import numpy as np\n",
        "import matplotlib.pyplot as plt\n",
        "\n",
        "def step_function(x):\n",
        "  return np.array(x>0, dtype=np.int)\n",
        "\n",
        "x = np.arange(-5.0,5.0,0.1)\n",
        "y = step_function(x)\n",
        "\n",
        "plt.plot(x,y)\n",
        "plt.ylim(-0.1,1.1)\n",
        "plt.show()"
      ],
      "execution_count": null,
      "outputs": [
        {
          "output_type": "display_data",
          "data": {
            "image/png": "[encoded data removed]",
            "text/plain": [
              "<Figure size 432x288 with 1 Axes>"
            ]
          },
          "metadata": {
            "tags": [],
            "needs_background": "light"
          }
        }
      ]
    },
    {
      "cell_type": "markdown",
      "metadata": {
        "id": "UrL2rUpkWZnT",
        "colab_type": "text"
      },
      "source": [
        "## 2. 시그모이드 함수(Sigmoid Function)\n",
        "\n"
      ]
    },
    {
      "cell_type": "code",
      "metadata": {
        "id": "36mLQ2hhWa_Q",
        "colab_type": "code",
        "colab": {
          "base_uri": "https://localhost:8080/",
          "height": 265
        },
        "outputId": "b12b3d31-9530-4ed9-bd29-6f5646126b33"
      },
      "source": [
        "import numpy as np\n",
        "import matplotlib.pyplot as plt\n",
        "\n",
        "def sigmoid(x):\n",
        "  return 1/(1+np.exp(-x))\n",
        "\n",
        "x = np.arange(-5.0,5.0,0.1)\n",
        "y = sigmoid(x)\n",
        "\n",
        "plt.plot(x,y)\n",
        "plt.ylim(-0.1,1.1)\n",
        "plt.show()"
      ],
      "execution_count": null,
      "outputs": [
        {
          "output_type": "display_data",
          "data": {
            "image/png": "[encoded data removed]",
            "text/plain": [
              "<Figure size 432x288 with 1 Axes>"
            ]
          },
          "metadata": {
            "tags": [],
            "needs_background": "light"
          }
        }
      ]
    },
    {
      "cell_type": "markdown",
      "metadata": {
        "id": "fRrfZQhjX7vb",
        "colab_type": "text"
      },
      "source": [
        "## 3. ReLU(Rectified Linear Unit)함수\n"
      ]
    },
    {
      "cell_type": "code",
      "metadata": {
        "id": "QCl-q-umWY8s",
        "colab_type": "code",
        "colab": {
          "base_uri": "https://localhost:8080/",
          "height": 265
        },
        "outputId": "efe16a96-166d-4f05-a9e3-3668338bc4a4"
      },
      "source": [
        "import numpy as np\n",
        "import matplotlib.pyplot as plt\n",
        "\n",
        "def ReLU(x):\n",
        "  return np.maximum(0,x)\n",
        "\n",
        "x = np.arange(-5.0,5.0,0.1)\n",
        "y = ReLU(x)\n",
        "plt.plot(x,y)\n",
        "plt.ylim(-0.1,1.1)\n",
        "plt.show()"
      ],
      "execution_count": null,
      "outputs": [
        {
          "output_type": "display_data",
          "data": {
            "image/png": "[encoded data removed]",
            "text/plain": [
              "<Figure size 432x288 with 1 Axes>"
            ]
          },
          "metadata": {
            "tags": [],
            "needs_background": "light"
          }
        }
      ]
    },
    {
      "cell_type": "markdown",
      "metadata": {
        "id": "MYW3OLYmZgsw",
        "colab_type": "text"
      },
      "source": [
        "## sigmoid & tanh 함수"
      ]
    },
    {
      "cell_type": "code",
      "metadata": {
        "id": "uyndOYK0Zkik",
        "colab_type": "code",
        "colab": {
          "base_uri": "https://localhost:8080/",
          "height": 269
        },
        "outputId": "89ba5ae6-a28f-4e07-a437-d4056cb398de"
      },
      "source": [
        "import numpy as np\n",
        "import matplotlib.pyplot as plt\n",
        "\n",
        "def sigmoid(x):\n",
        "  return 1/(1+np.exp(-x))\n",
        "\n",
        "def tanh(x):\n",
        "  t1 = np.exp(x) - np.exp(-x)\n",
        "  t2 = np.exp(x) + np.exp(-x)\n",
        "  return t1/t2\n",
        "\n",
        "x = np.arange(-5.0,5.0,0.1)\n",
        "y1 = sigmoid(x)\n",
        "y2 = tanh(x)\n",
        "\n",
        "plt.plot(x,y1)\n",
        "plt.plot(x,y2)\n",
        "plt.legend(['sigmoid','tanh'])\n",
        "plt.ylim(-1.0,1.0)\n",
        "plt.show()"
      ],
      "execution_count": null,
      "outputs": [
        {
          "output_type": "display_data",
          "data": {
            "image/png": "[encoded data removed]",
            "text/plain": [
              "<Figure size 432x288 with 1 Axes>"
            ]
          },
          "metadata": {
            "tags": [],
            "needs_background": "light"
          }
        }
      ]
    },
    {
      "cell_type": "markdown",
      "metadata": {
        "id": "O76at8dmjFGR",
        "colab_type": "text"
      },
      "source": [
        "# 손실함수"
      ]
    },
    {
      "cell_type": "markdown",
      "metadata": {
        "id": "-20sAlQtjrQ6",
        "colab_type": "text"
      },
      "source": [
        "# One-Hot Encoding"
      ]
    },
    {
      "cell_type": "code",
      "metadata": {
        "id": "nsPcSTXtjG1T",
        "colab_type": "code",
        "colab": {
          "base_uri": "https://localhost:8080/",
          "height": 195
        },
        "outputId": "b93f5dc8-710c-4270-94bd-357c0ed5160d"
      },
      "source": [
        "from numpy import array\n",
        "from numpy import argmax\n",
        "from sklearn.preprocessing import LabelEncoder\n",
        "from sklearn.preprocessing import OneHotEncoder\n",
        "\n",
        "data = ['Linux','Solaris','Unix','Windoss']\n",
        "values = array(data)\n",
        "print(values)\n",
        "\n",
        "label_encoder = LabelEncoder()\n",
        "integer_encoded = label_encoder.fit_transform(values)\n",
        "print('\\n',integer_encoded)\n",
        "\n",
        "onehot_encoder = OneHotEncoder(sparse=False)\n",
        "integer_encoded = integer_encoded.reshape(len(integer_encoded),1)\n",
        "onehot_encoded = onehot_encoder.fit_transform(integer_encoded)\n",
        "print('\\n' ,onehot_encoded)\n",
        "\n",
        "inverted = label_encoder.inverse_transform([argmax(onehot_encoded[0,:])])\n",
        "print('\\n',inverted)"
      ],
      "execution_count": null,
      "outputs": [
        {
          "output_type": "stream",
          "text": [
            "['Linux' 'Solaris' 'Unix' 'Windoss']\n",
            "\n",
            " [0 1 2 3]\n",
            "\n",
            " [[1. 0. 0. 0.]\n",
            " [0. 1. 0. 0.]\n",
            " [0. 0. 1. 0.]\n",
            " [0. 0. 0. 1.]]\n",
            "\n",
            " ['Linux']\n"
          ],
          "name": "stdout"
        }
      ]
    }
  ]
}