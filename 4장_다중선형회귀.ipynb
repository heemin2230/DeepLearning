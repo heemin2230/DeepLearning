{
  "nbformat": 4,
  "nbformat_minor": 0,
  "metadata": {
    "colab": {
      "name": "4장_다중선형회귀.ipynb",
      "provenance": [],
      "collapsed_sections": [],
      "authorship_tag": "ABX9TyNV7uyl5YGnX+Nscz7xggWv",
      "include_colab_link": true
    },
    "kernelspec": {
      "name": "python3",
      "display_name": "Python 3"
    }
  },
  "cells": [
    {
      "cell_type": "markdown",
      "metadata": {
        "id": "view-in-github",
        "colab_type": "text"
      },
      "source": [
        "<a href=\"https://colab.research.google.com/github/heemin2230/DeepLearning/blob/master/4%EC%9E%A5_%EB%8B%A4%EC%A4%91%EC%84%A0%ED%98%95%ED%9A%8C%EA%B7%80.ipynb\" target=\"_parent\"><img src=\"https://colab.research.google.com/assets/colab-badge.svg\" alt=\"Open In Colab\"/></a>"
      ]
    },
    {
      "cell_type": "code",
      "metadata": {
        "id": "gosP2mpLQs3J",
        "colab_type": "code",
        "colab": {
          "base_uri": "https://localhost:8080/",
          "height": 90
        },
        "outputId": "8f064712-6c9b-4b7f-8a31-c2e1cba252f7"
      },
      "source": [
        "# import tensorflow as tf\n",
        "\n",
        "import tensorflow.compat.v1 as tf\n",
        "tf.disable_v2_behavior()\n",
        "# tf.__version__"
      ],
      "execution_count": null,
      "outputs": [
        {
          "output_type": "stream",
          "text": [
            "WARNING:tensorflow:From /usr/local/lib/python3.6/dist-packages/tensorflow/python/compat/v2_compat.py:96: disable_resource_variables (from tensorflow.python.ops.variable_scope) is deprecated and will be removed in a future version.\n",
            "Instructions for updating:\n",
            "non-resource variables are not supported in the long term\n"
          ],
          "name": "stdout"
        }
      ]
    },
    {
      "cell_type": "code",
      "metadata": {
        "id": "jWGMAThQPYrx",
        "colab_type": "code",
        "colab": {
          "base_uri": "https://localhost:8080/",
          "height": 390
        },
        "outputId": "92b7d0ca-27d3-43c7-ba33-403b4add5576"
      },
      "source": [
        "data = [[2,0,81],[4,4,93],[6,2,91],[8,3,97]]\n",
        "x1 = [x_row1[0] for x_row1 in data]\n",
        "x2 = [x_row2[1] for x_row2 in data]\n",
        "y_data = [y_row[2] for y_row in data]\n",
        "\n",
        "a1 = tf.Variable(tf.random_uniform([1],0,10,dtype=tf.float64,seed=0))\n",
        "a2 = tf.Variable(tf.random_uniform([1],0,10,dtype=tf.float64,seed=0))\n",
        "b = tf.Variable(tf.random_uniform([1],0,100,dtype=tf.float64,seed=0))\n",
        "\n",
        "y = a1*x1 + a2*x2 + b\n",
        "\n",
        "rmse = tf.sqrt(tf.reduce_mean(tf.square(y - y_data)))\n",
        "\n",
        "learning_rate = 0.1\n",
        "\n",
        "gradient_decent = tf.train.GradientDescentOptimizer(learning_rate).minimize(rmse)\n",
        "\n",
        "with tf.Session() as sess:\n",
        "  sess.run(tf.global_variables_initializer())\n",
        "  for step in range(2001):\n",
        "    sess.run(gradient_decent)\n",
        "    if step%100 == 0:\n",
        "      print(\"Epoch: %.f, RMSE=%.4f, 기울기 a1 = %.4f, 기울기 a2 = %.4f, y절편 b = %.4f\" %(step, sess.run(rmse),sess.run(a1),sess.run(a2),sess.run(b)))"
      ],
      "execution_count": null,
      "outputs": [
        {
          "output_type": "stream",
          "text": [
            "Epoch: 0, RMSE=49.1842, 기울기 a1 = 7.5270, 기울기 a2 = 7.8160, y절편 b = 80.5980\n",
            "Epoch: 100, RMSE=1.8368, 기울기 a1 = 1.1306, 기울기 a2 = 2.1316, y절편 b = 78.5119\n",
            "Epoch: 200, RMSE=1.8370, 기울기 a1 = 1.1879, 기울기 a2 = 2.1487, y절편 b = 78.1057\n",
            "Epoch: 300, RMSE=1.8370, 기울기 a1 = 1.2122, 기울기 a2 = 2.1571, y절편 b = 77.9352\n",
            "Epoch: 400, RMSE=1.8370, 기울기 a1 = 1.2226, 기울기 a2 = 2.1607, y절편 b = 77.8636\n",
            "Epoch: 500, RMSE=1.8370, 기울기 a1 = 1.2269, 기울기 a2 = 2.1622, y절편 b = 77.8335\n",
            "Epoch: 600, RMSE=1.8370, 기울기 a1 = 1.2288, 기울기 a2 = 2.1628, y절편 b = 77.8208\n",
            "Epoch: 700, RMSE=1.8370, 기울기 a1 = 1.2295, 기울기 a2 = 2.1631, y절편 b = 77.8155\n",
            "Epoch: 800, RMSE=1.8370, 기울기 a1 = 1.2299, 기울기 a2 = 2.1632, y절편 b = 77.8133\n",
            "Epoch: 900, RMSE=1.8370, 기울기 a1 = 1.2300, 기울기 a2 = 2.1632, y절편 b = 77.8124\n",
            "Epoch: 1000, RMSE=1.8370, 기울기 a1 = 1.2301, 기울기 a2 = 2.1633, y절편 b = 77.8120\n",
            "Epoch: 1100, RMSE=1.8370, 기울기 a1 = 1.2301, 기울기 a2 = 2.1633, y절편 b = 77.8118\n",
            "Epoch: 1200, RMSE=1.8370, 기울기 a1 = 1.2301, 기울기 a2 = 2.1633, y절편 b = 77.8117\n",
            "Epoch: 1300, RMSE=1.8370, 기울기 a1 = 1.2301, 기울기 a2 = 2.1633, y절편 b = 77.8117\n",
            "Epoch: 1400, RMSE=1.8370, 기울기 a1 = 1.2301, 기울기 a2 = 2.1633, y절편 b = 77.8117\n",
            "Epoch: 1500, RMSE=1.8370, 기울기 a1 = 1.2301, 기울기 a2 = 2.1633, y절편 b = 77.8117\n",
            "Epoch: 1600, RMSE=1.8370, 기울기 a1 = 1.2301, 기울기 a2 = 2.1633, y절편 b = 77.8117\n",
            "Epoch: 1700, RMSE=1.8370, 기울기 a1 = 1.2301, 기울기 a2 = 2.1633, y절편 b = 77.8117\n",
            "Epoch: 1800, RMSE=1.8370, 기울기 a1 = 1.2301, 기울기 a2 = 2.1633, y절편 b = 77.8117\n",
            "Epoch: 1900, RMSE=1.8370, 기울기 a1 = 1.2301, 기울기 a2 = 2.1633, y절편 b = 77.8117\n",
            "Epoch: 2000, RMSE=1.8370, 기울기 a1 = 1.2301, 기울기 a2 = 2.1633, y절편 b = 77.8117\n"
          ],
          "name": "stdout"
        }
      ]
    }
  ]
}