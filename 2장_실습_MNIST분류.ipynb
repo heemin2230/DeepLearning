{
  "nbformat": 4,
  "nbformat_minor": 0,
  "metadata": {
    "colab": {
      "name": "2장_실습_MNIST분류.ipynb",
      "provenance": [],
      "collapsed_sections": [],
      "authorship_tag": "ABX9TyMfcVAqk0AH4e8O5+vz7u6n",
      "include_colab_link": true
    },
    "kernelspec": {
      "name": "python3",
      "display_name": "Python 3"
    }
  },
  "cells": [
    {
      "cell_type": "markdown",
      "metadata": {
        "id": "view-in-github",
        "colab_type": "text"
      },
      "source": [
        "<a href=\"https://colab.research.google.com/github/heemin2230/DeepLearning/blob/master/2%EC%9E%A5_%EC%8B%A4%EC%8A%B5_MNIST%EB%B6%84%EB%A5%98.ipynb\" target=\"_parent\"><img src=\"https://colab.research.google.com/assets/colab-badge.svg\" alt=\"Open In Colab\"/></a>"
      ]
    },
    {
      "cell_type": "code",
      "metadata": {
        "id": "vmApqeY4_K2c",
        "colab_type": "code",
        "colab": {
          "base_uri": "https://localhost:8080/",
          "height": 126
        },
        "outputId": "c08083fa-2118-4016-a89c-47246f306a8c"
      },
      "source": [
        "from google.colab import drive\n",
        "drive.mount(\"/content/gdrive\")"
      ],
      "execution_count": null,
      "outputs": [
        {
          "output_type": "stream",
          "text": [
            "Go to this URL in a browser: https://accounts.google.com/o/oauth2/auth?client_id=947318989803-6bn6qk8qdgf4n4g3pfee6491hc0brc4i.apps.googleusercontent.com&redirect_uri=urn%3aietf%3awg%3aoauth%3a2.0%3aoob&response_type=code&scope=email%20https%3a%2f%2fwww.googleapis.com%2fauth%2fdocs.test%20https%3a%2f%2fwww.googleapis.com%2fauth%2fdrive%20https%3a%2f%2fwww.googleapis.com%2fauth%2fdrive.photos.readonly%20https%3a%2f%2fwww.googleapis.com%2fauth%2fpeopleapi.readonly\n",
            "\n",
            "Enter your authorization code:\n",
            "··········\n",
            "Mounted at /content/gdrive\n"
          ],
          "name": "stdout"
        }
      ]
    },
    {
      "cell_type": "code",
      "metadata": {
        "id": "XEuHs4da_hkt",
        "colab_type": "code",
        "colab": {}
      },
      "source": [
        "from keras.utils import np_utils\n",
        "from keras.datasets import mnist\n",
        "from keras.models import Sequential\n",
        "from keras.layers import Dense, Activation"
      ],
      "execution_count": null,
      "outputs": []
    },
    {
      "cell_type": "code",
      "metadata": {
        "id": "bd2wOwmvTJ5P",
        "colab_type": "code",
        "colab": {
          "base_uri": "https://localhost:8080/",
          "height": 52
        },
        "outputId": "404facee-53bf-493b-869b-bf9686a3a27f"
      },
      "source": [
        "# 1. 데이터셋 생성하기\n",
        "(x_train, y_train), (x_test ,y_test) = mnist.load_data()\n",
        "\n",
        "# MNIST 데이터 셋 : https://sdc-jaemes.gitbook.io/onebook/4-and/5.2/5.1.3 -mnist-dataset\n",
        "# astype() : 타입 변환(정수 -> 실수, 실수 -> 정수)\n",
        "# 입력이미지는 28*28의 2차원 이미지가 60000개 입력되며 (60000,28,28)으로 3차원인데\n",
        "# reshape() 함수를 통해 2차원 이미지가 784의 1차원 이미지로 변환되고 (60000, 784)으로 2차원\n",
        "# /255.0 => (60000, 28, 28) 모양에 0-255까지 범위에 원소로 가득한 행렬 데이터가\n",
        "# 0-1 사이에 실수로 가득한 (60000, 784) 모양에 행렬 데이터로 변신하는 과정\n",
        "\n",
        "x_train = x_train.reshape(60000, 784).astype('float32') / 255.0\n",
        "x_test = x_test.reshape(10000,784).astype('float32') / 255.0\n",
        "y_train = np_utils.to_categorical(y_train)\n",
        "y_test = np_utils.to_categorical(y_test)"
      ],
      "execution_count": null,
      "outputs": [
        {
          "output_type": "stream",
          "text": [
            "Downloading data from https://s3.amazonaws.com/img-datasets/mnist.npz\n",
            "11493376/11490434 [==============================] - 1s 0us/step\n"
          ],
          "name": "stdout"
        }
      ]
    },
    {
      "cell_type": "code",
      "metadata": {
        "id": "9_6toWtbTLki",
        "colab_type": "code",
        "colab": {}
      },
      "source": [
        "# 2. 모델 구성하기\n",
        "model = Sequential()\n",
        "model.add(Dense(units=64, input_dim=28*28, activation='relu'))\n",
        "model.add(Dense(10,activation='softmax'))"
      ],
      "execution_count": null,
      "outputs": []
    },
    {
      "cell_type": "code",
      "metadata": {
        "id": "TGW0OCa3TLgn",
        "colab_type": "code",
        "colab": {}
      },
      "source": [
        "# 3. 모델 학습과정 설정하기\n",
        "model.compile(loss='categorical_crossentropy',optimizer='sgd',metrics=['accuracy'])"
      ],
      "execution_count": null,
      "outputs": []
    },
    {
      "cell_type": "code",
      "metadata": {
        "id": "72cPo_J1TLb9",
        "colab_type": "code",
        "colab": {
          "base_uri": "https://localhost:8080/",
          "height": 195
        },
        "outputId": "ba486899-65a7-4e8e-a48e-a1600a068660"
      },
      "source": [
        "# 4. 모델 학습시키기\n",
        "hist = model.fit(x_train, y_train, epochs=5, batch_size=32) # 32개씩 5번 실행"
      ],
      "execution_count": null,
      "outputs": [
        {
          "output_type": "stream",
          "text": [
            "Epoch 1/5\n",
            "60000/60000 [==============================] - 2s 38us/step - loss: 0.6762 - accuracy: 0.8242\n",
            "Epoch 2/5\n",
            "60000/60000 [==============================] - 2s 34us/step - loss: 0.3449 - accuracy: 0.9025\n",
            "Epoch 3/5\n",
            "60000/60000 [==============================] - 2s 34us/step - loss: 0.2950 - accuracy: 0.9167\n",
            "Epoch 4/5\n",
            "60000/60000 [==============================] - 2s 34us/step - loss: 0.2652 - accuracy: 0.9249\n",
            "Epoch 5/5\n",
            "60000/60000 [==============================] - 2s 34us/step - loss: 0.2436 - accuracy: 0.9318\n"
          ],
          "name": "stdout"
        }
      ]
    },
    {
      "cell_type": "code",
      "metadata": {
        "id": "NAz9XZZyTLWl",
        "colab_type": "code",
        "colab": {
          "base_uri": "https://localhost:8080/",
          "height": 88
        },
        "outputId": "3b54e302-169f-4b38-d4a1-a7f53d360644"
      },
      "source": [
        "# 5. 학습과정 살펴보기\n",
        "print('## training loss and acc ##\\n')\n",
        "print('loss -->',hist.history['loss'])\n",
        "print('acc  -->',hist.history['accuracy'])"
      ],
      "execution_count": null,
      "outputs": [
        {
          "output_type": "stream",
          "text": [
            "## training loss and acc ##\n",
            "\n",
            "loss --> [0.6762166036764781, 0.3449189207971096, 0.2949847423692544, 0.2651930164059003, 0.24358722989459833]\n",
            "acc  --> [0.82425, 0.90251666, 0.9167167, 0.9248667, 0.93181664]\n"
          ],
          "name": "stdout"
        }
      ]
    },
    {
      "cell_type": "code",
      "metadata": {
        "id": "02zmGRbuWkvX",
        "colab_type": "code",
        "colab": {
          "base_uri": "https://localhost:8080/",
          "height": 106
        },
        "outputId": "2519adf1-a1fa-4320-9a45-175aaae93a9d"
      },
      "source": [
        "# 6. 모델 평가하기\n",
        "loss_and_metrics = model.evaluate(x_test,y_test,batch_size=32)\n",
        "print(\"\\n## evaluation loss and metrics ##\\n\")\n",
        "print(loss_and_metrics)"
      ],
      "execution_count": null,
      "outputs": [
        {
          "output_type": "stream",
          "text": [
            "10000/10000 [==============================] - 0s 20us/step\n",
            "\n",
            "## evaluation loss and metrics ##\n",
            "\n",
            "[0.23148356185406446, 0.9344000220298767]\n"
          ],
          "name": "stdout"
        }
      ]
    },
    {
      "cell_type": "code",
      "metadata": {
        "id": "bbM3vskrTLLc",
        "colab_type": "code",
        "colab": {
          "base_uri": "https://localhost:8080/",
          "height": 88
        },
        "outputId": "27d5e06c-a98d-4058-a3e9-6651698fec2c"
      },
      "source": [
        "# 7. 모델 사용하기\n",
        "# 테스트 셋에 있는 첫번째 행의 데이터를 예측\n",
        "xhat = x_test[0:1]\n",
        "yhat = model.predict(xhat)\n",
        "\n",
        "print('## yaht ##\\n')\n",
        "print(yhat)"
      ],
      "execution_count": null,
      "outputs": [
        {
          "output_type": "stream",
          "text": [
            "## yaht ##\n",
            "\n",
            "[[9.9769466e-05 3.1548481e-07 5.4914854e-04 2.1312658e-03 2.1025733e-06\n",
            "  5.9675604e-05 5.7366620e-08 9.9676466e-01 1.7420285e-05 3.7564570e-04]]\n"
          ],
          "name": "stdout"
        }
      ]
    },
    {
      "cell_type": "code",
      "metadata": {
        "id": "6iCmXgxbTLFl",
        "colab_type": "code",
        "colab": {}
      },
      "source": [
        ""
      ],
      "execution_count": null,
      "outputs": []
    },
    {
      "cell_type": "code",
      "metadata": {
        "id": "h4KAnJhoTK4M",
        "colab_type": "code",
        "colab": {}
      },
      "source": [
        ""
      ],
      "execution_count": null,
      "outputs": []
    }
  ]
}