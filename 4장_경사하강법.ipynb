{
  "nbformat": 4,
  "nbformat_minor": 0,
  "metadata": {
    "colab": {
      "name": "4장_경사하강법.ipynb",
      "provenance": [],
      "collapsed_sections": [],
      "authorship_tag": "ABX9TyNAwP9POmkj1JyMiRzKLqYy",
      "include_colab_link": true
    },
    "kernelspec": {
      "name": "python3",
      "display_name": "Python 3"
    }
  },
  "cells": [
    {
      "cell_type": "markdown",
      "metadata": {
        "id": "view-in-github",
        "colab_type": "text"
      },
      "source": [
        "<a href=\"https://colab.research.google.com/github/heemin2230/DeepLearning/blob/master/4%EC%9E%A5_%EA%B2%BD%EC%82%AC%ED%95%98%EA%B0%95%EB%B2%95.ipynb\" target=\"_parent\"><img src=\"https://colab.research.google.com/assets/colab-badge.svg\" alt=\"Open In Colab\"/></a>"
      ]
    },
    {
      "cell_type": "code",
      "metadata": {
        "id": "Anf7faNH3R9u",
        "colab_type": "code",
        "colab": {
          "base_uri": "https://localhost:8080/",
          "height": 35
        },
        "outputId": "34b49e16-eb57-4208-829b-e401b3f9bb26"
      },
      "source": [
        "from google.colab import drive\n",
        "drive.mount(\"/content/gdrive\")"
      ],
      "execution_count": null,
      "outputs": [
        {
          "output_type": "stream",
          "text": [
            "Drive already mounted at /content/gdrive; to attempt to forcibly remount, call drive.mount(\"/content/gdrive\", force_remount=True).\n"
          ],
          "name": "stdout"
        }
      ]
    },
    {
      "cell_type": "code",
      "metadata": {
        "id": "rIExsej66Ghl",
        "colab_type": "code",
        "colab": {}
      },
      "source": [
        "# import tensorflow as tf\n",
        "\n",
        "import tensorflow.compat.v1 as tf\n",
        "tf.disable_v2_behavior()\n",
        "# tf.__version__"
      ],
      "execution_count": null,
      "outputs": []
    },
    {
      "cell_type": "code",
      "metadata": {
        "id": "acuoNCv-6Gee",
        "colab_type": "code",
        "colab": {}
      },
      "source": [
        "data = [[2,81],[4,93],[6,91],[8,97]]\n",
        "x_data = [i[0] for i in data]\n",
        "y_data = [i[1] for i in data]"
      ],
      "execution_count": null,
      "outputs": []
    },
    {
      "cell_type": "code",
      "metadata": {
        "id": "SPteRV1A6GcB",
        "colab_type": "code",
        "colab": {}
      },
      "source": [
        "# 기울기 a와 절편b의 값을 임의로 정한다\n",
        "# 단, 기울기의 범위는 0-10 사이이며, y절편은 0-100 사이에서 변하게 한다\n",
        "# tf.random_uiform --> tf.random.uniform로 변경\n",
        "\n",
        "a = tf.Variable(tf.random_uniform([1],0,100,dtype=tf.float64, seed=0))\n",
        "b = tf.Variable(tf.random_uniform([1],0,100,dtype=tf.float64, seed=0))"
      ],
      "execution_count": null,
      "outputs": []
    },
    {
      "cell_type": "code",
      "metadata": {
        "id": "ayspjS_u6GZH",
        "colab_type": "code",
        "colab": {}
      },
      "source": [
        "y = x_data*a + b"
      ],
      "execution_count": null,
      "outputs": []
    },
    {
      "cell_type": "code",
      "metadata": {
        "id": "HJbT_fOd6GWs",
        "colab_type": "code",
        "colab": {}
      },
      "source": [
        "rmse = tf.sqrt(tf.reduce_mean(tf.square(y - y_data)))"
      ],
      "execution_count": null,
      "outputs": []
    },
    {
      "cell_type": "code",
      "metadata": {
        "id": "yLOcGM326GOP",
        "colab_type": "code",
        "colab": {}
      },
      "source": [
        "learning_rate = 0.1"
      ],
      "execution_count": null,
      "outputs": []
    },
    {
      "cell_type": "code",
      "metadata": {
        "id": "Nt63tp-ZOZDO",
        "colab_type": "code",
        "colab": {}
      },
      "source": [
        "grdient_decent = tf.train.GradientDescentOptimizer(learning_rate).minimize(rmse)"
      ],
      "execution_count": null,
      "outputs": []
    },
    {
      "cell_type": "code",
      "metadata": {
        "id": "gNyvH4jNOZtR",
        "colab_type": "code",
        "colab": {
          "base_uri": "https://localhost:8080/",
          "height": 390
        },
        "outputId": "6411ed3a-8f6e-4919-a7eb-81d98ad3c3b0"
      },
      "source": [
        "with tf.Session() as sess:\n",
        "  sess.run(tf.global_variables_initializer())\n",
        "  for step in range(2001):\n",
        "    if step % 100 == 0:\n",
        "      print(\"Epoch: %.f, RMSE = %.04f, 기울기 a = %.4f, y 절편 b = %.4f\"\n",
        "        %(step, sess.run(rmse), sess.run(a), sess.run(b)))"
      ],
      "execution_count": null,
      "outputs": [
        {
          "output_type": "stream",
          "text": [
            "Epoch: 0, RMSE = 430.9135, 기울기 a = 80.6901, y 절편 b = 80.6901\n",
            "Epoch: 100, RMSE = 430.9135, 기울기 a = 80.6901, y 절편 b = 80.6901\n",
            "Epoch: 200, RMSE = 430.9135, 기울기 a = 80.6901, y 절편 b = 80.6901\n",
            "Epoch: 300, RMSE = 430.9135, 기울기 a = 80.6901, y 절편 b = 80.6901\n",
            "Epoch: 400, RMSE = 430.9135, 기울기 a = 80.6901, y 절편 b = 80.6901\n",
            "Epoch: 500, RMSE = 430.9135, 기울기 a = 80.6901, y 절편 b = 80.6901\n",
            "Epoch: 600, RMSE = 430.9135, 기울기 a = 80.6901, y 절편 b = 80.6901\n",
            "Epoch: 700, RMSE = 430.9135, 기울기 a = 80.6901, y 절편 b = 80.6901\n",
            "Epoch: 800, RMSE = 430.9135, 기울기 a = 80.6901, y 절편 b = 80.6901\n",
            "Epoch: 900, RMSE = 430.9135, 기울기 a = 80.6901, y 절편 b = 80.6901\n",
            "Epoch: 1000, RMSE = 430.9135, 기울기 a = 80.6901, y 절편 b = 80.6901\n",
            "Epoch: 1100, RMSE = 430.9135, 기울기 a = 80.6901, y 절편 b = 80.6901\n",
            "Epoch: 1200, RMSE = 430.9135, 기울기 a = 80.6901, y 절편 b = 80.6901\n",
            "Epoch: 1300, RMSE = 430.9135, 기울기 a = 80.6901, y 절편 b = 80.6901\n",
            "Epoch: 1400, RMSE = 430.9135, 기울기 a = 80.6901, y 절편 b = 80.6901\n",
            "Epoch: 1500, RMSE = 430.9135, 기울기 a = 80.6901, y 절편 b = 80.6901\n",
            "Epoch: 1600, RMSE = 430.9135, 기울기 a = 80.6901, y 절편 b = 80.6901\n",
            "Epoch: 1700, RMSE = 430.9135, 기울기 a = 80.6901, y 절편 b = 80.6901\n",
            "Epoch: 1800, RMSE = 430.9135, 기울기 a = 80.6901, y 절편 b = 80.6901\n",
            "Epoch: 1900, RMSE = 430.9135, 기울기 a = 80.6901, y 절편 b = 80.6901\n",
            "Epoch: 2000, RMSE = 430.9135, 기울기 a = 80.6901, y 절편 b = 80.6901\n"
          ],
          "name": "stdout"
        }
      ]
    },
    {
      "cell_type": "code",
      "metadata": {
        "id": "1keolRe2OZlT",
        "colab_type": "code",
        "colab": {}
      },
      "source": [
        ""
      ],
      "execution_count": null,
      "outputs": []
    },
    {
      "cell_type": "code",
      "metadata": {
        "id": "BDfnZD2rOZcu",
        "colab_type": "code",
        "colab": {}
      },
      "source": [
        ""
      ],
      "execution_count": null,
      "outputs": []
    },
    {
      "cell_type": "code",
      "metadata": {
        "id": "3MpkYyJYOY8C",
        "colab_type": "code",
        "colab": {}
      },
      "source": [
        ""
      ],
      "execution_count": null,
      "outputs": []
    },
    {
      "cell_type": "code",
      "metadata": {
        "id": "Ggz3fK6kOY2c",
        "colab_type": "code",
        "colab": {}
      },
      "source": [
        ""
      ],
      "execution_count": null,
      "outputs": []
    },
    {
      "cell_type": "code",
      "metadata": {
        "id": "WCb8Cxm-OYso",
        "colab_type": "code",
        "colab": {}
      },
      "source": [
        ""
      ],
      "execution_count": null,
      "outputs": []
    }
  ]
}